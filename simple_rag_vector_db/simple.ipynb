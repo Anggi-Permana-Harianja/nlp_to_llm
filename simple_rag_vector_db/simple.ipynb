{
 "cells": [
  {
   "cell_type": "code",
   "execution_count": 1,
   "id": "af67b610-c2c6-4994-ae64-d42538320514",
   "metadata": {},
   "outputs": [],
   "source": [
    "#!pip install -r requirements.txt"
   ]
  },
  {
   "cell_type": "code",
   "execution_count": 37,
   "id": "53874a8f-374f-4dec-8d24-20e9d684b89e",
   "metadata": {},
   "outputs": [],
   "source": [
    "from openai import OpenAI\n",
    "import os\n",
    "from dotenv import load_dotenv\n",
    "import numpy as np\n",
    "import torch\n",
    "from transformers import AutoTokenizer, AutoModel\n",
    "import json\n",
    "import faiss\n",
    "from IPython.display import display, Markdown"
   ]
  },
  {
   "cell_type": "code",
   "execution_count": 3,
   "id": "c0131148-dcee-4614-b263-34c2d85b15f9",
   "metadata": {},
   "outputs": [],
   "source": [
    "\"\"\"\n",
    "Load openai API\n",
    "\"\"\"\n",
    "# Automatically load environment variables from the .env file in the current working directory\n",
    "load_dotenv()\n",
    "\n",
    "# Get the API key from the environment variable\n",
    "openai_api_key = os.getenv('OPENAI_API_KEY')"
   ]
  },
  {
   "cell_type": "code",
   "execution_count": 4,
   "id": "7975ecd7-8836-480a-8667-1b3b01680117",
   "metadata": {},
   "outputs": [],
   "source": [
    "\"\"\"\n",
    "Load JSON data\n",
    "\"\"\"\n",
    "with open('./simple_vector_db/data.json', 'r') as file:\n",
    "    data = json.load(file)"
   ]
  },
  {
   "cell_type": "code",
   "execution_count": 5,
   "id": "11ce21f3-15df-4970-8bf2-071ed88ba3fb",
   "metadata": {},
   "outputs": [],
   "source": [
    "\"\"\"\n",
    "Convert each row as string\n",
    "\"\"\"\n",
    "data_strings = [f\"Name: {row['Name']}, Age: {row['Age']}, Department: {row['Department']}, Salary: {row['Salary']}\" for row in data]"
   ]
  },
  {
   "cell_type": "code",
   "execution_count": 6,
   "id": "57bac832-8784-4e00-87a4-31d1ec360fe5",
   "metadata": {},
   "outputs": [],
   "source": [
    "\"\"\"\n",
    "Load pre-trained model and tokenizer from HF\n",
    "\"\"\"\n",
    "tokenizer = AutoTokenizer.from_pretrained('sentence-transformers/all-MiniLM-L6-v2')\n",
    "model = AutoModel.from_pretrained('sentence-transformers/all-MiniLM-L6-v2')"
   ]
  },
  {
   "cell_type": "code",
   "execution_count": 7,
   "id": "6379ebf4-1f91-40d2-a4c4-56c7a790d821",
   "metadata": {},
   "outputs": [],
   "source": [
    "\"\"\"\n",
    "Generate embeddings\n",
    "\"\"\"\n",
    "def generate_embeddings(text_list):\n",
    "    inputs = tokenizer(\n",
    "        text_list,\n",
    "        return_tensors='pt',\n",
    "        padding=True, \n",
    "        truncation=True\n",
    "    )\n",
    "    with torch.no_grad():\n",
    "        model_output = model(**inputs)\n",
    "\n",
    "    return model_output.last_hidden_state.mean(dim=1).numpy()"
   ]
  },
  {
   "cell_type": "code",
   "execution_count": 8,
   "id": "6e292e83-1aac-40d8-bd76-00b14c5a8f44",
   "metadata": {},
   "outputs": [],
   "source": [
    "embeddings = generate_embeddings(data_strings)"
   ]
  },
  {
   "cell_type": "code",
   "execution_count": 9,
   "id": "575989e6-767c-4896-be82-ff8fa3080ca3",
   "metadata": {},
   "outputs": [
    {
     "data": {
      "text/plain": [
       "array([[-0.16853712,  0.09782203, -0.3504172 , ..., -0.47833598,\n",
       "        -0.09226134, -0.02919849],\n",
       "       [-0.13911068,  0.03090546, -0.21950956, ..., -0.42540738,\n",
       "        -0.17673936, -0.03296225],\n",
       "       [-0.3203677 , -0.22014733, -0.06118219, ..., -0.4841047 ,\n",
       "        -0.39684767,  0.11418969],\n",
       "       [-0.21524845, -0.04571941,  0.02459079, ..., -0.45589957,\n",
       "        -0.05748866, -0.01889198]], dtype=float32)"
      ]
     },
     "execution_count": 9,
     "metadata": {},
     "output_type": "execute_result"
    }
   ],
   "source": [
    "embeddings"
   ]
  },
  {
   "cell_type": "code",
   "execution_count": 10,
   "id": "beacb046-c40a-461c-bfba-8d4744e38d77",
   "metadata": {},
   "outputs": [],
   "source": [
    "\"\"\"\n",
    "Store embedding in FAISS\n",
    "\"\"\"\n",
    "dimensions = embeddings.shape[1]\n",
    "# Create index\n",
    "index = faiss.IndexFlatL2(dimensions)\n",
    "# Add embedding to index, please have a look at other methods to get familiar\n",
    "index.add(embeddings)"
   ]
  },
  {
   "cell_type": "code",
   "execution_count": 11,
   "id": "1e1aa22e-07af-41e5-bac8-9ed3a403043d",
   "metadata": {},
   "outputs": [],
   "source": [
    "\"\"\"\n",
    "Query vector database\n",
    "\"\"\"\n",
    "def query_vector_database(query_text):\n",
    "    # Generate an embedding for THE QUERY\n",
    "    query_embedding = generate_embeddings([query_text])\n",
    "    # Search FAISS index\n",
    "    distances, indices = index.search(query_embedding, k=3)\n",
    "\n",
    "    return indices[0], distances[0]"
   ]
  },
  {
   "cell_type": "code",
   "execution_count": 12,
   "id": "92c86a93-9804-405f-b0ce-bf0dc39bd4ae",
   "metadata": {},
   "outputs": [],
   "source": [
    "client = OpenAI(\n",
    "    # This is the default and can be omitted\n",
    "    api_key=os.environ.get(\"OPENAI_API_KEY\"),\n",
    ")"
   ]
  },
  {
   "cell_type": "code",
   "execution_count": 45,
   "id": "06378471-eab2-4150-9383-65d00f754180",
   "metadata": {},
   "outputs": [],
   "source": [
    "\"\"\"\n",
    "Chat with custom data using chatGPT\n",
    "\"\"\"\n",
    "# Set up ppenAPI client\n",
    "client = OpenAI(\n",
    "    api_key=openai_api_key\n",
    "\n",
    ")\n",
    "def chat_with_custom_data(user_input):\n",
    "    # Query the vector database\n",
    "    indices, distances = query_vector_database(user_input)\n",
    "    # Retrieve corresponding data\n",
    "    results = [data[i] for i in indices]\n",
    "    \n",
    "    # Format the results as reponse\n",
    "    response_text = \"Here are the top results:\\n\"\n",
    "    for result in results:\n",
    "        response_text += f\"Name: {result['Name']}, Age: {result['Age']}, Department: {result['Department']}, Salary: {result['Salary']}\\n\"\n",
    "\n",
    "    # Generate answer using ChatGPT\n",
    "    chat_completion = client.chat.completions.create(\n",
    "        messages=[\n",
    "            {\n",
    "                \"role\": \"system\",\n",
    "                \"content\": response_text                \n",
    "            },\n",
    "            {\n",
    "                \"role\": \"user\",\n",
    "                \"content\": user_input + \" please write in nice markdown\"\n",
    "            }\n",
    "    \n",
    "        ],\n",
    "        model=\"gpt-3.5-turbo\"\n",
    "    )\n",
    "    \n",
    "    message_content = chat_completion.choices[0].message.content\n",
    "\n",
    "    return message_content"
   ]
  },
  {
   "cell_type": "code",
   "execution_count": 46,
   "id": "3f014e46-050f-4b98-ae9e-d336096f61ae",
   "metadata": {},
   "outputs": [],
   "source": [
    "# Example usage\n",
    "user_input = \"What is the average salary in the IT department?\"\n",
    "response = chat_with_custom_data(user_input)"
   ]
  },
  {
   "cell_type": "code",
   "execution_count": 47,
   "id": "05829009-24cb-465b-a2ce-89f180225b31",
   "metadata": {},
   "outputs": [
    {
     "data": {
      "text/markdown": [
       "The average salary in the IT department is calculated as follows:\n",
       "\n",
       "(total salary of Bob + total salary of Diana) / total number of employees in the IT department = (70000 + 72000) / 2 = 71000\n",
       "\n",
       "Therefore, the average salary in the IT department is $71,000."
      ],
      "text/plain": [
       "<IPython.core.display.Markdown object>"
      ]
     },
     "metadata": {},
     "output_type": "display_data"
    }
   ],
   "source": [
    "display(Markdown(response))"
   ]
  },
  {
   "cell_type": "code",
   "execution_count": null,
   "id": "5ebbcee6-8654-4f70-974d-d02e33cd5425",
   "metadata": {},
   "outputs": [],
   "source": []
  }
 ],
 "metadata": {
  "kernelspec": {
   "display_name": "Python 3 (ipykernel)",
   "language": "python",
   "name": "python3"
  },
  "language_info": {
   "codemirror_mode": {
    "name": "ipython",
    "version": 3
   },
   "file_extension": ".py",
   "mimetype": "text/x-python",
   "name": "python",
   "nbconvert_exporter": "python",
   "pygments_lexer": "ipython3",
   "version": "3.10.12"
  }
 },
 "nbformat": 4,
 "nbformat_minor": 5
}
