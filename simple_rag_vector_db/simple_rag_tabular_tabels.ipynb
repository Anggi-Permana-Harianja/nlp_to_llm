{
 "cells": [
  {
   "cell_type": "code",
   "execution_count": 3,
   "id": "490aad5d-8a0b-431b-962a-c54e8668aa58",
   "metadata": {},
   "outputs": [],
   "source": [
    "from openai import OpenAI\n",
    "import os\n",
    "from dotenv import load_dotenv\n",
    "import numpy as np\n",
    "import torch\n",
    "from transformers import AutoTokenizer, AutoModel\n",
    "import json\n",
    "import faiss\n",
    "from IPython.display import display, Markdown\n",
    "\n",
    "from helpers import flatten_data"
   ]
  },
  {
   "cell_type": "code",
   "execution_count": 10,
   "id": "4db20dc1-d490-4b8a-b690-e5f0de4580b5",
   "metadata": {},
   "outputs": [],
   "source": [
    "\"\"\"\n",
    "Load openai API\n",
    "\"\"\"\n",
    "# Automatically load environment variables from the .env file in the current working directory\n",
    "load_dotenv()\n",
    "\n",
    "# Get the API key from the environment variable\n",
    "openai_api_key = os.getenv('OPENAI_API_KEY')\n",
    "\n",
    "client = OpenAI(\n",
    "    # This is the default and can be omitted\n",
    "    api_key=openai_api_key,\n",
    ")"
   ]
  },
  {
   "cell_type": "code",
   "execution_count": 4,
   "id": "95498ec3-2f22-4259-9c6a-70819ad24a8c",
   "metadata": {},
   "outputs": [],
   "source": [
    "# Read the JSON data from a file\n",
    "with open('users_products_sales.json', 'r') as file:\n",
    "    data = json.load(file)\n",
    "\n",
    "# Convert into list and flattened the key, val\n",
    "data_strings = flatten_data(data)"
   ]
  },
  {
   "cell_type": "code",
   "execution_count": 5,
   "id": "f0491b8f-db5d-4340-8947-2a91c28094d1",
   "metadata": {},
   "outputs": [],
   "source": [
    "\"\"\"\n",
    "Load pre-trained model and tokenizer from HF\n",
    "\"\"\"\n",
    "tokenizer = AutoTokenizer.from_pretrained('sentence-transformers/all-MiniLM-L6-v2')\n",
    "model = AutoModel.from_pretrained('sentence-transformers/all-MiniLM-L6-v2')"
   ]
  },
  {
   "cell_type": "code",
   "execution_count": 6,
   "id": "67f37c69-ad51-4e1f-bd51-a7cdc0444ee7",
   "metadata": {},
   "outputs": [],
   "source": [
    "\"\"\"\n",
    "Generate embeddings\n",
    "\"\"\"\n",
    "def generate_embeddings(text_list):\n",
    "    inputs = tokenizer(\n",
    "        text_list,\n",
    "        return_tensors='pt',\n",
    "        padding=True, \n",
    "        truncation=True\n",
    "    )\n",
    "    with torch.no_grad():\n",
    "        model_output = model(**inputs)\n",
    "\n",
    "    return model_output.last_hidden_state.mean(dim=1).numpy()"
   ]
  },
  {
   "cell_type": "code",
   "execution_count": 7,
   "id": "3bf8c2ac-f931-4579-82f6-4215cb840d40",
   "metadata": {},
   "outputs": [],
   "source": [
    "embeddings = generate_embeddings(data_strings)"
   ]
  },
  {
   "cell_type": "code",
   "execution_count": 8,
   "id": "cecb94fd-10a3-4f5f-b716-a87b81a5e0a6",
   "metadata": {},
   "outputs": [],
   "source": [
    "\"\"\"\n",
    "Store embedding in FAISS\n",
    "\"\"\"\n",
    "dimensions = embeddings.shape[1]\n",
    "# Create index\n",
    "index = faiss.IndexFlatL2(dimensions)\n",
    "# Add embedding to index, please have a look at other methods to get familiar\n",
    "index.add(embeddings)"
   ]
  },
  {
   "cell_type": "code",
   "execution_count": 16,
   "id": "78847e33-55c8-4f4b-a661-c8fbe33abee4",
   "metadata": {},
   "outputs": [],
   "source": [
    "\"\"\"\n",
    "Query vector database\n",
    "\"\"\"\n",
    "def query_vector_database(query_text):\n",
    "    # Generate an embedding for the query\n",
    "    query_embedding = generate_embeddings([query_text])\n",
    "    # Seach FAISS index\n",
    "    distances, indices = index.search(query_embedding, k=3)\n",
    "\n",
    "    return indices[0], distances[0]"
   ]
  },
  {
   "cell_type": "code",
   "execution_count": 25,
   "id": "e6b3e50d-5619-4a41-8be4-6557006c3d79",
   "metadata": {},
   "outputs": [],
   "source": [
    "\"\"\"\n",
    "Chat with custom data using chatGPT\n",
    "\"\"\"\n",
    "def chat_with_custom_data(user_input):\n",
    "    # Query the vector database\n",
    "    indices, distances = query_vector_database(user_input)\n",
    "    # Retrieve corresponding data\n",
    "    results = [data_strings[i] for i in indices]\n",
    "    \n",
    "    # Format the results as reponse\n",
    "    response_text = \"Here are the top results:\\n\"\n",
    " \n",
    "    # Generate answer using ChatGPT\n",
    "    chat_completion = client.chat.completions.create(\n",
    "        messages=[\n",
    "            {\n",
    "                \"role\": \"system\",\n",
    "                \"content\": response_text                \n",
    "            },\n",
    "            {\n",
    "                \"role\": \"user\",\n",
    "                \"content\": user_input + \" please write in nice markdown\"\n",
    "            }\n",
    "    \n",
    "        ],\n",
    "        model=\"gpt-3.5-turbo\"\n",
    "    )\n",
    "    \n",
    "    message_content = chat_completion.choices[0].message.content\n",
    "\n",
    "    return message_content"
   ]
  },
  {
   "cell_type": "code",
   "execution_count": 35,
   "id": "739d96eb-57de-4eeb-8be1-f3af1b249a70",
   "metadata": {},
   "outputs": [],
   "source": [
    "# Example usage\n",
    "user_input = \"who bought the most and what product sell the most?\"\n",
    "response = chat_with_custom_data(user_input)"
   ]
  },
  {
   "cell_type": "code",
   "execution_count": 41,
   "id": "e36c914c-35d4-4731-92bf-e10ff30adcf1",
   "metadata": {},
   "outputs": [],
   "source": [
    "user_input = \"who is the youngest user?\"\n",
    "indices, distances = query_vector_database(user_input)\n",
    "# Retrieve corresponding data\n",
    "results = [data_strings[i] for i in indices]"
   ]
  },
  {
   "cell_type": "code",
   "execution_count": 42,
   "id": "9bfe6ac6-d50d-42f3-ad23-5ade27939e40",
   "metadata": {},
   "outputs": [
    {
     "data": {
      "text/plain": [
       "['sale_id: 1005, user_id: 1, sales_product_id: 102, quantity: 1, total_price: 699.99, sale_date: 2023-05-18',\n",
       " 'sale_id: 1004, user_id: 4, sales_product_id: 104, quantity: 3, total_price: 599.97, sale_date: 2023-04-12',\n",
       " 'sale_id: 1003, user_id: 3, sales_product_id: 103, quantity: 1, total_price: 299.99, sale_date: 2023-03-05']"
      ]
     },
     "execution_count": 42,
     "metadata": {},
     "output_type": "execute_result"
    }
   ],
   "source": [
    "results"
   ]
  },
  {
   "cell_type": "code",
   "execution_count": null,
   "id": "e62749c5-770c-4db6-9c20-97cb930c5f4d",
   "metadata": {},
   "outputs": [],
   "source": []
  }
 ],
 "metadata": {
  "kernelspec": {
   "display_name": "Python 3 (ipykernel)",
   "language": "python",
   "name": "python3"
  },
  "language_info": {
   "codemirror_mode": {
    "name": "ipython",
    "version": 3
   },
   "file_extension": ".py",
   "mimetype": "text/x-python",
   "name": "python",
   "nbconvert_exporter": "python",
   "pygments_lexer": "ipython3",
   "version": "3.10.12"
  }
 },
 "nbformat": 4,
 "nbformat_minor": 5
}
